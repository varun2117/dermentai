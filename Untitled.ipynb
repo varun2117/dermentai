{
 "cells": [
  {
   "cell_type": "code",
   "execution_count": 9,
   "id": "b64be737-4137-41ac-bd77-68d67fac2151",
   "metadata": {},
   "outputs": [
    {
     "name": "stdout",
     "output_type": "stream",
     "text": [
      "\u001b[1m1/1\u001b[0m \u001b[32m━━━━━━━━━━━━━━━━━━━━\u001b[0m\u001b[37m\u001b[0m \u001b[1m0s\u001b[0m 26ms/step\n",
      "Predicted Disease: cellulitis\n"
     ]
    }
   ],
   "source": [
    "import numpy as np\n",
    "import matplotlib.pyplot as plt\n",
    "import seaborn as sns\n",
    "from sklearn.metrics import classification_report, confusion_matrix\n",
    "import cv2\n",
    "import tensorflow as tf\n",
    "from tensorflow import keras\n",
    "import tensorflow_hub as hub\n",
    "\n",
    "# Load the trained model\n",
    "loaded_model = keras.models.load_model('derment_ai.keras')\n",
    "\n",
    "\n",
    "\n",
    "# Function to preprocess a single image\n",
    "def preprocess_image(image_path):\n",
    "    img = cv2.imread(image_path)\n",
    "    if img is None:\n",
    "        print(\"Error: Unable to read image\")\n",
    "        return None\n",
    "    # Resize the image to match the input shape of the model (224x224)\n",
    "    img_resized = cv2.resize(img, (224, 224))\n",
    "    # Normalize the image\n",
    "    img_scaled = img_resized / 255.0\n",
    "    # Convert the image to a numpy array\n",
    "    img_array = np.expand_dims(img_scaled, axis=0)\n",
    "    return img_array\n",
    "\n",
    "# Function to predict disease type from an image\n",
    "def predict_disease(image_path):\n",
    "    # Preprocess the image\n",
    "    img_array = preprocess_image(image_path)\n",
    "    if img_array is None:\n",
    "        return None\n",
    "    # Make prediction using the loaded model\n",
    "    prediction = loaded_model.predict(img_array)\n",
    "    # Convert prediction to disease label\n",
    "    disease_labels = ['cellulitis', 'impetigo', 'athlete-foot', 'nail-fungus', 'ringworm', \n",
    "                      'cutaneous-larva-migrans', 'chickenpox', 'shingles']\n",
    "    predicted_label = disease_labels[np.argmax(prediction)]\n",
    "    return predicted_label\n",
    "\n",
    "# Test on individual image\n",
    "image_path = r'/Users/varunkaleeswaranbalasubramani/Downloads/download (1).jpeg'\n",
    "predicted_disease = predict_disease(image_path)\n",
    "if predicted_disease is not None:\n",
    "    print(\"Predicted Disease:\", predicted_disease)\n"
   ]
  },
  {
   "cell_type": "code",
   "execution_count": null,
   "id": "7fda435d-a420-4c5c-9fe3-3e0e442b3ef6",
   "metadata": {},
   "outputs": [],
   "source": []
  }
 ],
 "metadata": {
  "kernelspec": {
   "display_name": "Python 3 (ipykernel)",
   "language": "python",
   "name": "python3"
  },
  "language_info": {
   "codemirror_mode": {
    "name": "ipython",
    "version": 3
   },
   "file_extension": ".py",
   "mimetype": "text/x-python",
   "name": "python",
   "nbconvert_exporter": "python",
   "pygments_lexer": "ipython3",
   "version": "3.11.7"
  }
 },
 "nbformat": 4,
 "nbformat_minor": 5
}
